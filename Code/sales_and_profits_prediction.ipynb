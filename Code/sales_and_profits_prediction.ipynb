{
  "cells": [
    {
      "cell_type": "code",
      "execution_count": null,
      "metadata": {
        "id": "4lWAXJfbhrts"
      },
      "outputs": [],
      "source": [
        "!pip install anvil-uplink"
      ]
    },
    {
      "cell_type": "code",
      "execution_count": null,
      "metadata": {
        "id": "8tCG3yYGya4-"
      },
      "outputs": [],
      "source": [
        "from google.colab import files\n",
        "uploaded = files.upload()"
      ]
    },
    {
      "cell_type": "code",
      "execution_count": null,
      "metadata": {
        "id": "2QUjDPaC_8Dq"
      },
      "outputs": [],
      "source": [
        "from google.colab import files\n",
        "uploaded = files.upload()"
      ]
    },
    {
      "cell_type": "code",
      "execution_count": null,
      "metadata": {
        "id": "wkhtQ735y8_T"
      },
      "outputs": [],
      "source": [
        "import numpy as np\n",
        "import pandas as pd\n",
        "import matplotlib.pyplot as plt\n",
        "from sklearn.model_selection import train_test_split\n",
        "from sklearn import metrics\n",
        "import seaborn as sns\n",
        "import pickle\n",
        "from datetime import datetime\n",
        "import datetime\n"
      ]
    },
    {
      "cell_type": "code",
      "execution_count": null,
      "metadata": {
        "id": "BD1e8d9_seHk"
      },
      "outputs": [],
      "source": [
        "\n",
        "import anvil.tables as tables\n",
        "from anvil.tables import app_tables\n",
        "import anvil.media\n",
        "\n",
        "import pandas as pd\n",
        "import anvil.media\n",
        "import pickle\n",
        "\n",
        "@anvil.server.callable\n",
        "def store_data_1(file):\n",
        "  with anvil.media.TempFile(file) as file_name:\n",
        "    if file.content_type == 'text/csv':\n",
        "      df = pd.read_csv(file_name)\n",
        "      df.to_csv('month3_2.csv')\n",
        "      # file_name='month3_2.csv'\n",
        "      # pickle.dump(df,open(file_name, 'wb'))\n",
        "  pass\n",
        ""
      ]
    },
    {
      "cell_type": "code",
      "execution_count": null,
      "metadata": {
        "id": "FnQSeTCNAqN1"
      },
      "outputs": [],
      "source": [
        "# import pandas as pd\n",
        "# import anvil.media\n",
        "\n",
        "# @anvil.server.callable\n",
        "# def store_data(file):\n",
        "#   with anvil.media.TempFile(file) as file_name:\n",
        "#     if file.content_type == 'text/csv':\n",
        "#       df = pd.read_csv(file_name)\n",
        "#     else:\n",
        "#       df = pd.read_excel(file_name)\n",
        "#     for d in df.to_dict(orient=\"records\"):\n",
        "#       # d is now a dict of {columnname -> value} for this row\n",
        "#       # We use Python's **kwargs syntax to pass the whole dict as\n",
        "#       # keyword arguments\n",
        "#       app_tables.user_uploaded.add_row(**d)"
      ]
    },
    {
      "cell_type": "code",
      "execution_count": null,
      "metadata": {
        "id": "Eje630qzCkQ3"
      },
      "outputs": [],
      "source": [
        "!pip install xlrd"
      ]
    },
    {
      "cell_type": "code",
      "execution_count": null,
      "metadata": {
        "id": "oo7cCyVyC3P_"
      },
      "outputs": [],
      "source": [
        "# import pandas as pd\n",
        "# import anvil.tables as tables\n",
        "# from anvil.tables import app_tables\n",
        "\n",
        "# @anvil.server.callable\n",
        "# def import_csv_data(file):\n",
        "#   with open(file, \"r\") as f:\n",
        "#     df = pd.read_csv(f)\n",
        "#     for d in df.to_dict(orient=\"records\"):\n",
        "#       # d is now a dict of {columnname -> value} for this row\n",
        "#       # We use Python's **kwargs syntax to pass the whole dict as\n",
        "#       # keyword arguments\n",
        "#       app_tables.user_uploaded.add_row(**d)"
      ]
    },
    {
      "cell_type": "code",
      "execution_count": null,
      "metadata": {
        "id": "kOBhQsSxhwQw"
      },
      "outputs": [],
      "source": [
        "import anvil.server"
      ]
    },
    {
      "cell_type": "code",
      "execution_count": null,
      "metadata": {
        "id": "UxORTCPxhx9g"
      },
      "outputs": [],
      "source": [
        "anvil.server.connect(\"LUSKFFUEO5USGGDW5K2PHKQI-HERZ5MG4BGLBFMSC\")"
      ]
    },
    {
      "cell_type": "code",
      "execution_count": null,
      "metadata": {
        "id": "Sl0j3InZj6Yn"
      },
      "outputs": [],
      "source": [
        "data = pd.read_csv(\"month1_2.csv\")"
      ]
    },
    {
      "cell_type": "code",
      "source": [
        "from google.colab import drive\n",
        "drive.mount('/content/drive')"
      ],
      "metadata": {
        "id": "w3I0PPPM39pp"
      },
      "execution_count": null,
      "outputs": []
    },
    {
      "cell_type": "code",
      "execution_count": null,
      "metadata": {
        "id": "Fry1pV5ihD1y"
      },
      "outputs": [],
      "source": [
        "user_data2=pd.read_csv(\"month2.csv\")"
      ]
    },
    {
      "cell_type": "code",
      "execution_count": null,
      "metadata": {
        "id": "X5Nnw4IQABXM"
      },
      "outputs": [],
      "source": [
        "user_data=pd.read_csv(\"/content/month3_2.csv\")"
      ]
    },
    {
      "cell_type": "code",
      "execution_count": null,
      "metadata": {
        "id": "yTbQor1vBC_O"
      },
      "outputs": [],
      "source": [
        "test1_user=user_data[[\"Total\"]]"
      ]
    },
    {
      "cell_type": "code",
      "execution_count": null,
      "metadata": {
        "id": "3mer2CEthKJe"
      },
      "outputs": [],
      "source": [
        "next_month = user_data2[[\"Total\"]]"
      ]
    },
    {
      "cell_type": "code",
      "execution_count": null,
      "metadata": {
        "id": "z6UhLS4RjU2F"
      },
      "outputs": [],
      "source": [
        "next_month_profits=user_data2[[\"gross income\"]]"
      ]
    },
    {
      "cell_type": "code",
      "execution_count": null,
      "metadata": {
        "id": "aIsVrYv2j23g"
      },
      "outputs": [],
      "source": [
        "test1_user_profits = user_data[[\"gross income\"]]"
      ]
    },
    {
      "cell_type": "code",
      "execution_count": null,
      "metadata": {
        "id": "zgct6cPSeNDK"
      },
      "outputs": [],
      "source": [
        "user_data2=user_data2[[\"Unit price\", \"Quantity\", \"Product line_Electronic accessories\", \"Product line_Fashion accessories\", \"Product line_Food and beverages\", \"Product line_Health and beauty\", \"Product line_Home and lifestyle\", \"Product line_Sports and travel\", \"Branch_Ameerpet\", \"Branch_Gurgaon\", \"Branch_Jayanagar\", \"Rating\"]]"
      ]
    },
    {
      "cell_type": "code",
      "execution_count": null,
      "metadata": {
        "id": "GrZGiMF-ZFR6"
      },
      "outputs": [],
      "source": [
        "train_x_x = data[[\"Unit price\", \"Quantity\", \"Product line_Electronic accessories\", \"Product line_Fashion accessories\", \"Product line_Food and beverages\", \"Product line_Health and beauty\", \"Product line_Home and lifestyle\", \"Product line_Sports and travel\", \"Branch_Ameerpet\", \"Branch_Gurgaon\", \"Branch_Jayanagar\", \"Rating\"]]"
      ]
    },
    {
      "cell_type": "code",
      "execution_count": null,
      "metadata": {
        "id": "Ffl8Vt3HAYPa"
      },
      "outputs": [],
      "source": [
        "user_data=user_data[[\"Unit price\", \"Quantity\", \"Product line_Electronic accessories\", \"Product line_Fashion accessories\", \"Product line_Food and beverages\", \"Product line_Health and beauty\", \"Product line_Home and lifestyle\", \"Product line_Sports and travel\", \"Branch_Ameerpet\", \"Branch_Gurgaon\", \"Branch_Jayanagar\", \"Rating\"]]"
      ]
    },
    {
      "cell_type": "markdown",
      "metadata": {
        "id": "sHS1Wlb-Q0l_"
      },
      "source": [
        "# Not related to actual Code\n",
        "\n",
        "# From here..."
      ]
    },
    {
      "cell_type": "code",
      "execution_count": null,
      "metadata": {
        "id": "QCDmM5SJAuOr"
      },
      "outputs": [],
      "source": [
        "user_data.info()"
      ]
    },
    {
      "cell_type": "code",
      "execution_count": null,
      "metadata": {
        "id": "-9ZQstfraS8J"
      },
      "outputs": [],
      "source": [
        "print(test1_user.shape)"
      ]
    },
    {
      "cell_type": "code",
      "execution_count": null,
      "metadata": {
        "id": "7-vgaHhXZZuh"
      },
      "outputs": [],
      "source": [
        "print(next_month.shape)"
      ]
    },
    {
      "cell_type": "code",
      "execution_count": null,
      "metadata": {
        "id": "AhNAHdMbOM9k"
      },
      "outputs": [],
      "source": [
        "anvil.server.wait_forever()"
      ]
    },
    {
      "cell_type": "code",
      "execution_count": null,
      "metadata": {
        "id": "ErcVJGuvZW1f"
      },
      "outputs": [],
      "source": [
        "print(train_x_x.shape)"
      ]
    },
    {
      "cell_type": "code",
      "execution_count": null,
      "metadata": {
        "id": "V8N96Zt1zQYO"
      },
      "outputs": [],
      "source": [
        "# data = pd.read_csv(\"supermarket_sales_1.csv\")"
      ]
    },
    {
      "cell_type": "code",
      "execution_count": null,
      "metadata": {
        "id": "DDh_tgFCkBPv"
      },
      "outputs": [],
      "source": [
        "slice1 = data.sample(frac=0.05)"
      ]
    },
    {
      "cell_type": "code",
      "execution_count": null,
      "metadata": {
        "id": "MDhDYc08kOJ5"
      },
      "outputs": [],
      "source": [
        "slice2 = data.sample(frac=0.05)"
      ]
    },
    {
      "cell_type": "code",
      "execution_count": null,
      "metadata": {
        "id": "QP_yS85nkjNw"
      },
      "outputs": [],
      "source": [
        "user_file1 = slice1.copy()\n",
        "user_file1.to_csv(\"user_file1.csv\")"
      ]
    },
    {
      "cell_type": "code",
      "execution_count": null,
      "metadata": {
        "id": "gKCD6OoDkxLc"
      },
      "outputs": [],
      "source": [
        "user_file2 = slice2.copy()\n",
        "user_file2.to_csv(\"user_file2.csv\")"
      ]
    },
    {
      "cell_type": "code",
      "execution_count": null,
      "metadata": {
        "id": "cWd-fYo0mxZw"
      },
      "outputs": [],
      "source": [
        "data=data.sample(frac=0.9)"
      ]
    },
    {
      "cell_type": "code",
      "execution_count": null,
      "metadata": {
        "id": "WrmQ7MPjQ5bP"
      },
      "outputs": [],
      "source": [
        "print(data[\"Date\"].unique())"
      ]
    },
    {
      "cell_type": "code",
      "execution_count": null,
      "metadata": {
        "id": "xudeLDbnRbz_"
      },
      "outputs": [],
      "source": [
        "monthly_data = data.copy()\n",
        "# Drop the day indicator from the date column\n",
        "monthly_data.Date = monthly_data.Date.apply(lambda x: str(x)[:-8]+ str(x)[-5:])\n",
        "\n",
        "# Sum sales per month\n",
        "monthly_data = monthly_data.groupby('Date')['gross income'].sum().reset_index()\n",
        "monthly_data.Date = pd.to_datetime(monthly_data.Date)\n",
        "\n",
        "monthly_data.to_csv('monthly_data.csv')\n",
        "monthly_df=monthly_data"
      ]
    },
    {
      "cell_type": "code",
      "execution_count": null,
      "metadata": {
        "id": "DN8a-HLDKYJW"
      },
      "outputs": [],
      "source": [
        "monthly_df.info()"
      ]
    },
    {
      "cell_type": "code",
      "execution_count": null,
      "metadata": {
        "id": "r09seZGuKyvJ"
      },
      "outputs": [],
      "source": [
        "monthly_data"
      ]
    },
    {
      "cell_type": "code",
      "execution_count": null,
      "metadata": {
        "id": "hUy460DcKKXL"
      },
      "outputs": [],
      "source": [
        "plt.figure(figsize=(10,5))\n",
        "plt.xlim(0, 6000)\n",
        "plt.xlabel('Date')\n",
        "plt.ylabel('income')\n",
        "sns.kdeplot((monthly_data[\"Date\"]), (monthly_data['gross income']),shade=True)\n",
        "plt.show()"
      ]
    },
    {
      "cell_type": "code",
      "execution_count": null,
      "metadata": {
        "id": "5dXaFi6FMmQ1"
      },
      "outputs": [],
      "source": [
        "fig = plt.figure(figsize = (10, 5))\n",
        "\n",
        "# creating the bar plot\n",
        "dates=list(monthly_data[\"Date\"])\n",
        "income=list(monthly_data[\"gross income\"])\n",
        "plt.bar(dates, income, color ='maroon',width = 0.4)\n",
        "plt.xlabel(\"Months\")\n",
        "plt.ylabel(\"Income\")\n",
        "plt.title(\"4 Months of Income Data\")\n",
        "plt.show()"
      ]
    },
    {
      "cell_type": "code",
      "execution_count": null,
      "metadata": {
        "id": "M-Tzmjs-NfeF"
      },
      "outputs": [],
      "source": [
        "array=list((monthly_data[\"gross income\"]))"
      ]
    },
    {
      "cell_type": "code",
      "execution_count": null,
      "metadata": {
        "id": "nPTk-9whV-SR"
      },
      "outputs": [],
      "source": [
        "print(array)"
      ]
    },
    {
      "cell_type": "code",
      "execution_count": null,
      "metadata": {
        "id": "7QTtVGX9mnIQ"
      },
      "outputs": [],
      "source": [
        "data.info()"
      ]
    },
    {
      "cell_type": "code",
      "execution_count": null,
      "metadata": {
        "id": "ya40Aga-00uH"
      },
      "outputs": [],
      "source": [
        "print(data[\"Gender\"].unique())"
      ]
    },
    {
      "cell_type": "code",
      "execution_count": null,
      "metadata": {
        "id": "vI8Lr-Dq1BxI"
      },
      "outputs": [],
      "source": [
        "print(data[\"City\"].unique())"
      ]
    },
    {
      "cell_type": "code",
      "execution_count": null,
      "metadata": {
        "id": "gdLnsku41Gap"
      },
      "outputs": [],
      "source": [
        "print(data[\"Branch\"].unique())"
      ]
    },
    {
      "cell_type": "code",
      "execution_count": null,
      "metadata": {
        "id": "r-3W81rt1LUZ"
      },
      "outputs": [],
      "source": [
        "print(data[\"Product line\"].unique())"
      ]
    },
    {
      "cell_type": "code",
      "execution_count": null,
      "metadata": {
        "id": "-vI7dHMc1TWp"
      },
      "outputs": [],
      "source": [
        "print(data[\"Payment\"].unique())"
      ]
    },
    {
      "cell_type": "code",
      "execution_count": null,
      "metadata": {
        "id": "KDLBZkZk1clT"
      },
      "outputs": [],
      "source": [
        "print(data[\"Customer type\"].unique())"
      ]
    },
    {
      "cell_type": "code",
      "execution_count": null,
      "metadata": {
        "id": "Hyhq6Lcr1f4y"
      },
      "outputs": [],
      "source": [
        "print(data[\"Gender\"].value_counts())"
      ]
    },
    {
      "cell_type": "code",
      "execution_count": null,
      "metadata": {
        "id": "LJN5Fnfg1vjr"
      },
      "outputs": [],
      "source": [
        "print(data[\"Branch\"].value_counts())"
      ]
    },
    {
      "cell_type": "code",
      "execution_count": null,
      "metadata": {
        "id": "P5oqCafK4o5T"
      },
      "outputs": [],
      "source": [
        "experimental=one_hot_encoded_data.copy()\n",
        "experimental.to_csv(\"experimental.csv\")"
      ]
    },
    {
      "cell_type": "code",
      "execution_count": null,
      "metadata": {
        "id": "KNK3cOMyqsTp"
      },
      "outputs": [],
      "source": [
        "train,test = train_test_split(data, test_size=0.3)"
      ]
    },
    {
      "cell_type": "code",
      "execution_count": null,
      "metadata": {
        "id": "m2p_6mW_-fus"
      },
      "outputs": [],
      "source": [
        "print(train.shape)\n",
        "print(test.shape)"
      ]
    },
    {
      "cell_type": "code",
      "execution_count": null,
      "metadata": {
        "id": "9xdFPmXPsKiT"
      },
      "outputs": [],
      "source": [
        "train_x = train[[\"Unit price\", \"Quantity\", \"Product line_Electronic accessories\", \"Product line_Fashion accessories\", \"Product line_Food and beverages\", \"Product line_Health and beauty\", \"Product line_Home and lifestyle\", \"Product line_Sports and travel\", \"Branch_Ameerpet\", \"Branch_Gurgaon\", \"Branch_Jayanagar\", \"Rating\"]]\n",
        "train_y = train[[\"gross income\"]]\n",
        "\n",
        "test_x = test[[\"Unit price\", \"Quantity\", \"Product line_Electronic accessories\", \"Product line_Fashion accessories\", \"Product line_Food and beverages\", \"Product line_Health and beauty\", \"Product line_Home and lifestyle\", \"Product line_Sports and travel\", \"Branch_Ameerpet\", \"Branch_Gurgaon\", \"Branch_Jayanagar\", \"Rating\"]]\n",
        "test_y = test[[\"gross income\"]]\n"
      ]
    },
    {
      "cell_type": "code",
      "execution_count": null,
      "metadata": {
        "id": "ficDd749zWPY"
      },
      "outputs": [],
      "source": [
        "data.head()"
      ]
    },
    {
      "cell_type": "code",
      "execution_count": null,
      "metadata": {
        "id": "CRmoy0g0_Bet"
      },
      "outputs": [],
      "source": [
        "train_x_x.head()"
      ]
    },
    {
      "cell_type": "markdown",
      "metadata": {
        "id": "lKsxUlK6RBY7"
      },
      "source": [
        "# Till here..."
      ]
    },
    {
      "cell_type": "code",
      "execution_count": null,
      "metadata": {
        "id": "tCTENxIs_mGR"
      },
      "outputs": [],
      "source": [
        "from sklearn.linear_model import LinearRegression\n",
        "model=LinearRegression()\n",
        "model.fit(train_x_x, next_month)\n",
        "prediction = model.predict(user_data)\n",
        "# prediction=int(prediction.sum())\n",
        "# test1_user=int(test1_user.sum())\n",
        "# print(test1_user.sum())\n",
        "# print(prediction.sum())\n",
        "# print(\"The predicted sales for the next month is going to be {0:.2f}\".format(prediction.sum()))"
      ]
    },
    {
      "cell_type": "code",
      "execution_count": null,
      "metadata": {
        "id": "KTzfuLfEUP_A"
      },
      "outputs": [],
      "source": [
        "@anvil.server.callable\n",
        "def predict_sales():\n",
        "  # prediction = model.predict(user_data2)\n",
        "  return [str(int(prediction.sum())),str(int(test1_user.sum()))] #, str(test1_user)]"
      ]
    },
    {
      "cell_type": "code",
      "execution_count": null,
      "metadata": {
        "id": "k2WSuj1FkaWO"
      },
      "outputs": [],
      "source": [
        "from sklearn.linear_model import LinearRegression\n",
        "mod=LinearRegression()\n",
        "mod.fit(train_x_x, next_month_profits)\n",
        "pred = mod.predict(user_data)\n",
        "# pred = int(pred.sum())\n",
        "# test1_user_profits = int(test1_user_profits.sum())\n",
        "# print(test1_user_profits.sum())\n",
        "# print(pred.sum())"
      ]
    },
    {
      "cell_type": "code",
      "execution_count": null,
      "metadata": {
        "id": "CMohVoqVJPl8"
      },
      "outputs": [],
      "source": [
        "@anvil.server.callable\n",
        "def predict_profits():\n",
        "  # pred = mod.predict(user_data2)\n",
        "  return [str(int(pred.sum())),str(int(test1_user_profits.sum()))] #, str(test1_user_profits)]"
      ]
    },
    {
      "cell_type": "code",
      "execution_count": null,
      "metadata": {
        "id": "y6tFQs4jGmkK"
      },
      "outputs": [],
      "source": [
        "import math\n",
        "from sklearn.metrics import mean_squared_error\n",
        "from sklearn.metrics import r2_score\n",
        "rmse = math.sqrt(mean_squared_error(test1_user, prediction))\n",
        "print(rmse)\n",
        "# from sklearn.metrics import r2_score\n",
        "print(r2_score(test1_user, prediction)*100)"
      ]
    },
    {
      "cell_type": "code",
      "execution_count": null,
      "metadata": {
        "id": "CpFIb_HYyYKw"
      },
      "outputs": [],
      "source": [
        "bias = abs((int(test1_user.sum())-int((prediction.sum())))/int(test1_user.sum()))\n",
        "accuaracy = (100-bias)\n",
        "print(\"The overall accuracy of the prediction is {0:.2f}%\".format(accuaracy))"
      ]
    },
    {
      "cell_type": "code",
      "source": [
        "#current Month's Sales\n",
        "print(\"The Current Month's Total Sales are:{}\".format(int(test1_user.sum())))\n",
        "\n",
        "# Current month's profits\n",
        "print(\"The Current Month's profits are:{}\".format(int(test1_user_profits.sum())))"
      ],
      "metadata": {
        "id": "O4SoDpk_cnOh"
      },
      "execution_count": null,
      "outputs": []
    },
    {
      "cell_type": "code",
      "execution_count": null,
      "metadata": {
        "id": "MguBOTdu5aSq"
      },
      "outputs": [],
      "source": [
        " anvil.server.wait_forever()"
      ]
    },
    {
      "cell_type": "markdown",
      "metadata": {
        "id": "cQyGzKPbJr3w"
      },
      "source": [
        "# Done"
      ]
    },
    {
      "cell_type": "code",
      "execution_count": null,
      "metadata": {
        "id": "aoP78KD6CRz3"
      },
      "outputs": [],
      "source": [
        "import math\n",
        "from sklearn.metrics import mean_squared_error\n",
        "from sklearn.metrics import r2_score\n",
        "rmse = math.sqrt(mean_squared_error(test1_user,prediction))\n",
        "print(rmse)\n",
        "# from sklearn.metrics import r2_score\n",
        "print(r2_score(test1_user, prediction)*100)"
      ]
    },
    {
      "cell_type": "markdown",
      "metadata": {
        "id": "lWeLjxNtJ7aq"
      },
      "source": []
    },
    {
      "cell_type": "markdown",
      "metadata": {
        "id": "oEPC6nL2J7Xt"
      },
      "source": []
    },
    {
      "cell_type": "markdown",
      "metadata": {
        "id": "-Qyj0XZAJ7U9"
      },
      "source": []
    },
    {
      "cell_type": "markdown",
      "metadata": {
        "id": "8-fM5dZ1J7SF"
      },
      "source": []
    },
    {
      "cell_type": "markdown",
      "metadata": {
        "id": "CLfuymaSJ7PQ"
      },
      "source": []
    },
    {
      "cell_type": "markdown",
      "metadata": {
        "id": "rxgnXenJJ7L4"
      },
      "source": []
    },
    {
      "cell_type": "markdown",
      "metadata": {
        "id": "l5IOCxoVJ7Iv"
      },
      "source": []
    },
    {
      "cell_type": "code",
      "execution_count": null,
      "metadata": {
        "id": "bOPaMqYLGKCe"
      },
      "outputs": [],
      "source": [
        "from xgboost.sklearn import XGBRegressor\n",
        "model1=LinearRegression()\n",
        "model1.fit(train_x, train_y)\n",
        "prediction1 = model1.predict(test_x)\n",
        "print(len(prediction),len(test_y))"
      ]
    },
    {
      "cell_type": "code",
      "execution_count": null,
      "metadata": {
        "id": "owzOfNLHGwKs"
      },
      "outputs": [],
      "source": [
        "from sklearn.svm import SVR\n",
        "model2=LinearRegression()\n",
        "model2.fit(train_x, train_y)\n",
        "prediction2 = model2.predict(user)"
      ]
    },
    {
      "cell_type": "code",
      "execution_count": null,
      "metadata": {
        "id": "3NNPb91qG6DF"
      },
      "outputs": [],
      "source": [
        "rmse = math.sqrt(mean_squared_error(test_y,prediction2))\n",
        "print(rmse)\n",
        "# from sklearn.metrics import r2_score\n",
        "print(r2_score(test_y, prediction2))"
      ]
    },
    {
      "cell_type": "code",
      "execution_count": null,
      "metadata": {
        "id": "4NJlov7k4N9E"
      },
      "outputs": [],
      "source": [
        "prediction.sum()"
      ]
    },
    {
      "cell_type": "code",
      "execution_count": null,
      "metadata": {
        "id": "aPygCZBk4WBe"
      },
      "outputs": [],
      "source": [
        "int(test1_user.sum())"
      ]
    },
    {
      "cell_type": "code",
      "execution_count": null,
      "metadata": {
        "id": "ZNYCbhD34voS"
      },
      "outputs": [],
      "source": [
        "print(100-bias)"
      ]
    },
    {
      "cell_type": "code",
      "execution_count": null,
      "metadata": {
        "id": "1UBQRXBG8yvo"
      },
      "outputs": [],
      "source": [
        "print(next_month.tail())"
      ]
    },
    {
      "cell_type": "code",
      "execution_count": null,
      "metadata": {
        "id": "MK1ZohyT85Wn"
      },
      "outputs": [],
      "source": [
        "print(prediction[-5:-1])"
      ]
    },
    {
      "cell_type": "code",
      "execution_count": null,
      "metadata": {
        "id": "TWrJlLCHp75p"
      },
      "outputs": [],
      "source": [
        "int(test1_user.sum())"
      ]
    },
    {
      "cell_type": "code",
      "execution_count": null,
      "metadata": {
        "id": "mTSczu3wXIhp"
      },
      "outputs": [],
      "source": [
        "import numpy as np\n",
        "import pandas as pd\n",
        "import matplotlib.pyplot as plt\n",
        "import seaborn as sns\n",
        "%matplotlib inline\n",
        "data = pd.read_csv(\"/content/month3_2.csv\")\n",
        "print(data.head())\n",
        "\n",
        "import os\n",
        "print(os.listdir())\n",
        "\n",
        "import warnings\n",
        "warnings.filterwarnings('ignore')\n",
        "#importing dataset\n",
        "from google.colab import files\n",
        "uploaded=files.upload()\n",
        "dataset = pd.read_csv(\"/content/month3_2.csv\")\n",
        "type(dataset)\n",
        "dataset.shape\n",
        "dataset.dtypes\n",
        "dataset.head(5)\n",
        "dataset.sample(5)\n"
      ]
    },
    {
      "cell_type": "code",
      "execution_count": null,
      "metadata": {
        "id": "EDkOKslgXs2c"
      },
      "outputs": [],
      "source": [
        "type(dataset)\n",
        "dataset.shape"
      ]
    },
    {
      "cell_type": "code",
      "execution_count": null,
      "metadata": {
        "id": "dQUmLPntX77G"
      },
      "outputs": [],
      "source": [
        "# correlation_matrix=dataset.corr().round(2)\n",
        "# f,ax=plt.subplots(figsize=(20,14))\n",
        "# sns.heatmap(data=correlation_matrix,annot=True)"
      ]
    },
    {
      "cell_type": "code",
      "execution_count": null,
      "metadata": {
        "id": "Wpu_xQGFX-_6"
      },
      "outputs": [],
      "source": [
        "# dataset.hist(figsize=(40,40),layout=(8,8))"
      ]
    },
    {
      "cell_type": "code",
      "execution_count": null,
      "metadata": {
        "id": "oVW9cj84YIks"
      },
      "outputs": [],
      "source": [
        "sns.barplot(data=dataset,x='Tax 5%',y='gross income')"
      ]
    },
    {
      "cell_type": "markdown",
      "metadata": {
        "id": "UYoRH9cVGSRE"
      },
      "source": []
    },
    {
      "cell_type": "code",
      "execution_count": null,
      "metadata": {
        "id": "Po6z5QvtYQKf"
      },
      "outputs": [],
      "source": [
        "# sns.catplot(data=dataset,x='Gender_Female',y='Gender_Male')"
      ]
    },
    {
      "cell_type": "code",
      "execution_count": null,
      "metadata": {
        "id": "lpYw_txNYl9_"
      },
      "outputs": [],
      "source": [
        "dataset['Payment_Cash'].value_counts()\n",
        "dataset['Payment_Credit/Debit card'].value_counts()\n",
        "dataset['Payment_UPI'].value_counts()"
      ]
    },
    {
      "cell_type": "code",
      "execution_count": null,
      "metadata": {
        "id": "auW5IjxCYqQv"
      },
      "outputs": [],
      "source": [
        "import plotly.express as px\n",
        "import plotly.graph_objects as go\n",
        "figure = px.scatter(data_frame = data, x=\"gross income\",\n",
        "                    y=\"Branch_Ameerpet\", size=\"gross margin percentage\", trendline=\"ols\")\n",
        "figure.show()"
      ]
    },
    {
      "cell_type": "code",
      "execution_count": null,
      "metadata": {
        "id": "mNxsbfAtYwSd"
      },
      "outputs": [],
      "source": [
        "import plotly.express as px\n",
        "import plotly.graph_objects as go\n",
        "figure = px.scatter(data_frame = data, x=\"gross income\",\n",
        "                    y=\"Branch_Gurgaon\", size=\"gross margin percentage\", trendline=\"ols\")\n",
        "figure.show()"
      ]
    },
    {
      "cell_type": "code",
      "execution_count": null,
      "metadata": {
        "id": "llaAjpR4Y22x"
      },
      "outputs": [],
      "source": [
        "import plotly.express as px\n",
        "import plotly.graph_objects as go\n",
        "figure = px.scatter(data_frame = data, x=\"gross income\",\n",
        "                    y=\"Branch_Jayanagar\", size=\"gross margin percentage\", trendline=\"ols\")\n",
        "figure.show()"
      ]
    },
    {
      "cell_type": "code",
      "execution_count": null,
      "metadata": {
        "id": "tYz7GUfyZIvu"
      },
      "outputs": [],
      "source": [
        "from sklearn.model_selection import train_test_split\n",
        "from sklearn.linear_model import LinearRegression\n",
        "x = np.array(data.drop([\"gross income\"], 1))\n",
        "y = np.array(data[\"gross income\"])\n",
        "xtrain, xtest, ytrain, ytest = train_test_split(x, y,test_size=0.2,random_state=42)\n",
        "model = LinearRegression()\n",
        "from sklearn.model_selection import train_test_split\n",
        "\n",
        "predictors = dataset.drop(\"gross  income\",axis=1)\n",
        "grossincome = dataset[\"gross income\"]\n",
        "\n",
        "X_train,X_test,Y_train,Y_test = train_test_split(predictors,gross income,test_size=0.20,random_state=0)\n",
        "X_train.shape\n",
        "X_test.shape\n",
        "Y_train.shape\n",
        "Y_test.shape\n",
        "\n",
        "\n"
      ]
    }
  ],
  "metadata": {
    "colab": {
      "provenance": []
    },
    "kernelspec": {
      "display_name": "Python 3",
      "name": "python3"
    },
    "language_info": {
      "name": "python"
    }
  },
  "nbformat": 4,
  "nbformat_minor": 0
}